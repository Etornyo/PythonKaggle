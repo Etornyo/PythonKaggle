{
 "cells": [
  {
   "cell_type": "markdown",
   "id": "9954c9e3",
   "metadata": {
    "papermill": {
     "duration": 0.008457,
     "end_time": "2023-07-21T11:24:41.820636",
     "exception": false,
     "start_time": "2023-07-21T11:24:41.812179",
     "status": "completed"
    },
    "tags": []
   },
   "source": [
    "**This notebook is an exercise in the [Intro to Programming](https://www.kaggle.com/learn/intro-to-programming) course.  You can reference the tutorial at [this link](https://www.kaggle.com/alexisbcook/functions).**\n",
    "\n",
    "---\n"
   ]
  },
  {
   "cell_type": "markdown",
   "id": "8d47b095",
   "metadata": {
    "papermill": {
     "duration": 0.007779,
     "end_time": "2023-07-21T11:24:41.836707",
     "exception": false,
     "start_time": "2023-07-21T11:24:41.828928",
     "status": "completed"
    },
    "tags": []
   },
   "source": [
    "In the tutorial, you learned about functions. In this exercise, you'll write some of your own!\n",
    "\n",
    "# Set up the notebook\n",
    "\n",
    "Run the next code cell without changes to set up the notebook."
   ]
  },
  {
   "cell_type": "code",
   "execution_count": 1,
   "id": "6a88938d",
   "metadata": {
    "execution": {
     "iopub.execute_input": "2023-07-21T11:24:41.855157Z",
     "iopub.status.busy": "2023-07-21T11:24:41.854345Z",
     "iopub.status.idle": "2023-07-21T11:24:41.899269Z",
     "shell.execute_reply": "2023-07-21T11:24:41.898134Z"
    },
    "papermill": {
     "duration": 0.057461,
     "end_time": "2023-07-21T11:24:41.902221",
     "exception": false,
     "start_time": "2023-07-21T11:24:41.844760",
     "status": "completed"
    },
    "tags": []
   },
   "outputs": [
    {
     "name": "stdout",
     "output_type": "stream",
     "text": [
      "Setup complete.\n"
     ]
    }
   ],
   "source": [
    "# Set up the exercise\n",
    "import math\n",
    "from learntools.core import binder\n",
    "binder.bind(globals())\n",
    "from learntools.intro_to_programming.ex2 import *\n",
    "print('Setup complete.')"
   ]
  },
  {
   "cell_type": "markdown",
   "id": "a21f4eae",
   "metadata": {
    "papermill": {
     "duration": 0.007975,
     "end_time": "2023-07-21T11:24:41.918420",
     "exception": false,
     "start_time": "2023-07-21T11:24:41.910445",
     "status": "completed"
    },
    "tags": []
   },
   "source": [
    "# Question 1\n",
    "\n",
    "In the [House Prices - Advanced Regression Techniques competition](https://www.kaggle.com/c/house-prices-advanced-regression-techniques/overview), you need to use information like the number of bedrooms and bathrooms to predict the price of a house.  Inspired by this competition, you'll write your own function to do this.\n",
    "\n",
    "In the next code cell, create a function `get_expected_cost()` that has two arguments:\n",
    "- `beds` - number of bedrooms \n",
    "- `baths` - number of bathrooms\n",
    "\n",
    "It should return the expected cost of a house with that number of bedrooms and bathrooms.  Assume that:\n",
    "- the expected cost for a house with 0 bedrooms and 0 bathrooms is `80000`.  \n",
    "- each bedroom adds `30000` to the expected cost\n",
    "- each bathroom adds `10000` to the expected cost.\n",
    "\n",
    "For instance, \n",
    "- a house with 1 bedroom and 1 bathroom has an expected cost of `120000`, and \n",
    "- a house with 2 bedrooms and 1 bathroom has an expected cost of `150000`."
   ]
  },
  {
   "cell_type": "code",
   "execution_count": 2,
   "id": "5de1747c",
   "metadata": {
    "execution": {
     "iopub.execute_input": "2023-07-21T11:24:41.937366Z",
     "iopub.status.busy": "2023-07-21T11:24:41.936607Z",
     "iopub.status.idle": "2023-07-21T11:24:41.948628Z",
     "shell.execute_reply": "2023-07-21T11:24:41.947487Z"
    },
    "papermill": {
     "duration": 0.024244,
     "end_time": "2023-07-21T11:24:41.950921",
     "exception": false,
     "start_time": "2023-07-21T11:24:41.926677",
     "status": "completed"
    },
    "tags": []
   },
   "outputs": [
    {
     "data": {
      "application/javascript": [
       "parent.postMessage({\"jupyterEvent\": \"custom.exercise_interaction\", \"data\": {\"outcomeType\": 1, \"valueTowardsCompletion\": 0.2, \"interactionType\": 1, \"questionType\": 2, \"questionId\": \"1_GetExpectedCost\", \"learnToolsVersion\": \"0.3.4\", \"failureMessage\": \"\", \"exceptionClass\": \"\", \"trace\": \"\"}}, \"*\")"
      ],
      "text/plain": [
       "<IPython.core.display.Javascript object>"
      ]
     },
     "metadata": {},
     "output_type": "display_data"
    },
    {
     "data": {
      "text/markdown": [
       "<span style=\"color:#33cc33\">Correct</span>"
      ],
      "text/plain": [
       "Correct"
      ]
     },
     "metadata": {},
     "output_type": "display_data"
    }
   ],
   "source": [
    "# TODO: Complete the function\n",
    "def get_expected_cost(beds, baths):\n",
    "    value = 80000+(beds*30000) + (baths*10000)\n",
    "    return value\n",
    "\n",
    "# Check your answer \n",
    "q1.check()"
   ]
  },
  {
   "cell_type": "code",
   "execution_count": 3,
   "id": "c8a82de9",
   "metadata": {
    "execution": {
     "iopub.execute_input": "2023-07-21T11:24:41.970230Z",
     "iopub.status.busy": "2023-07-21T11:24:41.969546Z",
     "iopub.status.idle": "2023-07-21T11:24:41.978392Z",
     "shell.execute_reply": "2023-07-21T11:24:41.977413Z"
    },
    "papermill": {
     "duration": 0.021149,
     "end_time": "2023-07-21T11:24:41.980575",
     "exception": false,
     "start_time": "2023-07-21T11:24:41.959426",
     "status": "completed"
    },
    "tags": []
   },
   "outputs": [
    {
     "data": {
      "application/javascript": [
       "parent.postMessage({\"jupyterEvent\": \"custom.exercise_interaction\", \"data\": {\"interactionType\": 2, \"questionType\": 2, \"questionId\": \"1_GetExpectedCost\", \"learnToolsVersion\": \"0.3.4\", \"valueTowardsCompletion\": 0.0, \"failureMessage\": \"\", \"exceptionClass\": \"\", \"trace\": \"\", \"outcomeType\": 4}}, \"*\")"
      ],
      "text/plain": [
       "<IPython.core.display.Javascript object>"
      ]
     },
     "metadata": {},
     "output_type": "display_data"
    },
    {
     "data": {
      "text/markdown": [
       "<span style=\"color:#3366cc\">Hint:</span> The value should be the base cost (`80000`), plus the total cost of the bedrooms (`30000 * beds`), plus the total cost of the bathrooms (`10000 * baths`)."
      ],
      "text/plain": [
       "Hint: The value should be the base cost (`80000`), plus the total cost of the bedrooms (`30000 * beds`), plus the total cost of the bathrooms (`10000 * baths`)."
      ]
     },
     "metadata": {},
     "output_type": "display_data"
    }
   ],
   "source": [
    "# Uncomment to see a hint\n",
    "q1.hint()\n",
    "\n",
    "# Uncomment to view the solution\n",
    "#q1.solution()"
   ]
  },
  {
   "cell_type": "markdown",
   "id": "e25db0c1",
   "metadata": {
    "papermill": {
     "duration": 0.008617,
     "end_time": "2023-07-21T11:24:41.998315",
     "exception": false,
     "start_time": "2023-07-21T11:24:41.989698",
     "status": "completed"
    },
    "tags": []
   },
   "source": [
    "# Question 2\n",
    "\n",
    "You are thinking about buying a home and want to get an idea of how much you will spend, based on the number of bedrooms and bathrooms.  You are trying to decide between four different options:\n",
    "- Option 1: house with two bedrooms and three bathrooms\n",
    "- Option 2: house with three bedrooms and two bathrooms\n",
    "- Option 3: house with three bedrooms and three bathrooms\n",
    "- Option 4: house with three bedrooms and four bathrooms\n",
    "\n",
    "Use the `get_expected_cost()` function you defined in question 1 to set `option_1`, `option_2`, `option_3`, and `option_4` to the expected cost of each option."
   ]
  },
  {
   "cell_type": "code",
   "execution_count": 4,
   "id": "4ecd6e71",
   "metadata": {
    "execution": {
     "iopub.execute_input": "2023-07-21T11:24:42.019900Z",
     "iopub.status.busy": "2023-07-21T11:24:42.019221Z",
     "iopub.status.idle": "2023-07-21T11:24:42.031525Z",
     "shell.execute_reply": "2023-07-21T11:24:42.030260Z"
    },
    "papermill": {
     "duration": 0.027035,
     "end_time": "2023-07-21T11:24:42.034304",
     "exception": false,
     "start_time": "2023-07-21T11:24:42.007269",
     "status": "completed"
    },
    "tags": []
   },
   "outputs": [
    {
     "name": "stdout",
     "output_type": "stream",
     "text": [
      "170000\n",
      "190000\n",
      "200000\n",
      "210000\n"
     ]
    },
    {
     "data": {
      "application/javascript": [
       "parent.postMessage({\"jupyterEvent\": \"custom.exercise_interaction\", \"data\": {\"outcomeType\": 1, \"valueTowardsCompletion\": 0.2, \"interactionType\": 1, \"questionType\": 1, \"questionId\": \"2_RunGetExpectedCost\", \"learnToolsVersion\": \"0.3.4\", \"failureMessage\": \"\", \"exceptionClass\": \"\", \"trace\": \"\"}}, \"*\")"
      ],
      "text/plain": [
       "<IPython.core.display.Javascript object>"
      ]
     },
     "metadata": {},
     "output_type": "display_data"
    },
    {
     "data": {
      "text/markdown": [
       "<span style=\"color:#33cc33\">Correct</span>"
      ],
      "text/plain": [
       "Correct"
      ]
     },
     "metadata": {},
     "output_type": "display_data"
    }
   ],
   "source": [
    "# TODO: Use the get_expected_cost function to fill in each value\n",
    "option_one = get_expected_cost(2,3)\n",
    "option_two = get_expected_cost(3,2)\n",
    "option_three = get_expected_cost(3,3)\n",
    "option_four = get_expected_cost(3,4)\n",
    "\n",
    "print(option_one)\n",
    "print(option_two)\n",
    "print(option_three)\n",
    "print(option_four)\n",
    "\n",
    "# Check your answer\n",
    "q2.check()"
   ]
  },
  {
   "cell_type": "code",
   "execution_count": 5,
   "id": "e5b2a558",
   "metadata": {
    "execution": {
     "iopub.execute_input": "2023-07-21T11:24:42.055196Z",
     "iopub.status.busy": "2023-07-21T11:24:42.054788Z",
     "iopub.status.idle": "2023-07-21T11:24:42.059438Z",
     "shell.execute_reply": "2023-07-21T11:24:42.058160Z"
    },
    "papermill": {
     "duration": 0.01794,
     "end_time": "2023-07-21T11:24:42.061812",
     "exception": false,
     "start_time": "2023-07-21T11:24:42.043872",
     "status": "completed"
    },
    "tags": []
   },
   "outputs": [],
   "source": [
    "# Uncomment to see a hint\n",
    "#q2.hint()\n",
    "\n",
    "# Uncomment to view the solution\n",
    "#q2.solution()"
   ]
  },
  {
   "cell_type": "markdown",
   "id": "89dba994",
   "metadata": {
    "papermill": {
     "duration": 0.009115,
     "end_time": "2023-07-21T11:24:42.080396",
     "exception": false,
     "start_time": "2023-07-21T11:24:42.071281",
     "status": "completed"
    },
    "tags": []
   },
   "source": [
    "# Question 3\n",
    "\n",
    "You're a home decorator, and you'd like to use Python to streamline some of your work.  Specifically, you're creating a tool that you intend to use to calculate the cost of painting a room.\n",
    "\n",
    "As a first step, define a function `get_cost()` that takes as input:\n",
    "- `sqft_walls` = total square feet of walls to be painted\n",
    "- `sqft_ceiling` = square feet of ceiling to be painted\n",
    "- `sqft_per_gallon` = number of square feet that you can cover with one gallon of paint\n",
    "- `cost_per_gallon` = cost (in dollars) of one gallon of paint\n",
    "\n",
    "It should return the cost (in dollars) of putting one coat of paint on all walls and the ceiling.  Assume you can buy the exact amount of paint that you need, so you can buy partial gallons (e.g., if you need 7.523 gallons, you can buy that exact amount, instead of needing to buy 8 gallons and waste some paint).  Do not round your answer."
   ]
  },
  {
   "cell_type": "code",
   "execution_count": null,
   "id": "6e8c6d30",
   "metadata": {
    "papermill": {
     "duration": 0.009454,
     "end_time": "2023-07-21T11:24:42.099399",
     "exception": false,
     "start_time": "2023-07-21T11:24:42.089945",
     "status": "completed"
    },
    "tags": []
   },
   "outputs": [],
   "source": []
  },
  {
   "cell_type": "code",
   "execution_count": 6,
   "id": "4e018f74",
   "metadata": {
    "execution": {
     "iopub.execute_input": "2023-07-21T11:24:42.120287Z",
     "iopub.status.busy": "2023-07-21T11:24:42.119851Z",
     "iopub.status.idle": "2023-07-21T11:24:42.129910Z",
     "shell.execute_reply": "2023-07-21T11:24:42.128774Z"
    },
    "papermill": {
     "duration": 0.023371,
     "end_time": "2023-07-21T11:24:42.132230",
     "exception": false,
     "start_time": "2023-07-21T11:24:42.108859",
     "status": "completed"
    },
    "tags": []
   },
   "outputs": [
    {
     "data": {
      "application/javascript": [
       "parent.postMessage({\"jupyterEvent\": \"custom.exercise_interaction\", \"data\": {\"outcomeType\": 1, \"valueTowardsCompletion\": 0.2, \"interactionType\": 1, \"questionType\": 2, \"questionId\": \"3_GetCostPaint\", \"learnToolsVersion\": \"0.3.4\", \"failureMessage\": \"\", \"exceptionClass\": \"\", \"trace\": \"\"}}, \"*\")"
      ],
      "text/plain": [
       "<IPython.core.display.Javascript object>"
      ]
     },
     "metadata": {},
     "output_type": "display_data"
    },
    {
     "data": {
      "text/markdown": [
       "<span style=\"color:#33cc33\">Correct</span>"
      ],
      "text/plain": [
       "Correct"
      ]
     },
     "metadata": {},
     "output_type": "display_data"
    }
   ],
   "source": [
    "# TODO: Finish defining the function\n",
    "def get_cost(sqft_walls, sqft_ceiling, sqft_per_gallon, cost_per_gallon):\n",
    "    cost = (sqft_walls + sqft_ceiling) * (1/sqft_per_gallon) * cost_per_gallon\n",
    "    return cost\n",
    "\n",
    "# Check your answer\n",
    "q3.check()"
   ]
  },
  {
   "cell_type": "code",
   "execution_count": 7,
   "id": "330a809a",
   "metadata": {
    "execution": {
     "iopub.execute_input": "2023-07-21T11:24:42.154553Z",
     "iopub.status.busy": "2023-07-21T11:24:42.153274Z",
     "iopub.status.idle": "2023-07-21T11:24:42.158652Z",
     "shell.execute_reply": "2023-07-21T11:24:42.157779Z"
    },
    "papermill": {
     "duration": 0.018895,
     "end_time": "2023-07-21T11:24:42.161033",
     "exception": false,
     "start_time": "2023-07-21T11:24:42.142138",
     "status": "completed"
    },
    "tags": []
   },
   "outputs": [],
   "source": [
    "# Uncomment to see a hint\n",
    "#q3.hint()\n",
    "\n",
    "# Uncomment to view the solution\n",
    "#q3.solution()"
   ]
  },
  {
   "cell_type": "markdown",
   "id": "9a55ac1e",
   "metadata": {
    "papermill": {
     "duration": 0.009474,
     "end_time": "2023-07-21T11:24:42.180330",
     "exception": false,
     "start_time": "2023-07-21T11:24:42.170856",
     "status": "completed"
    },
    "tags": []
   },
   "source": [
    "# Question 4\n",
    "\n",
    "Use the `get_cost()` function you defined in Question 3 to calculate the cost of applying one coat of paint to a room with:\n",
    "- 432 square feet of walls, and\n",
    "- 144 square feet of ceiling.\n",
    "\n",
    "Assume that one gallon of paint covers 400 square feet and costs $15.  As in Question 3, assume you can buy partial gallons of paint.  Do not round your answer."
   ]
  },
  {
   "cell_type": "code",
   "execution_count": 8,
   "id": "ad557bc0",
   "metadata": {
    "execution": {
     "iopub.execute_input": "2023-07-21T11:24:42.202375Z",
     "iopub.status.busy": "2023-07-21T11:24:42.201269Z",
     "iopub.status.idle": "2023-07-21T11:24:42.211494Z",
     "shell.execute_reply": "2023-07-21T11:24:42.210637Z"
    },
    "papermill": {
     "duration": 0.023664,
     "end_time": "2023-07-21T11:24:42.213845",
     "exception": false,
     "start_time": "2023-07-21T11:24:42.190181",
     "status": "completed"
    },
    "tags": []
   },
   "outputs": [
    {
     "data": {
      "application/javascript": [
       "parent.postMessage({\"jupyterEvent\": \"custom.exercise_interaction\", \"data\": {\"outcomeType\": 1, \"valueTowardsCompletion\": 0.2, \"interactionType\": 1, \"questionType\": 1, \"questionId\": \"4_GetCostPaintExample\", \"learnToolsVersion\": \"0.3.4\", \"failureMessage\": \"\", \"exceptionClass\": \"\", \"trace\": \"\"}}, \"*\")"
      ],
      "text/plain": [
       "<IPython.core.display.Javascript object>"
      ]
     },
     "metadata": {},
     "output_type": "display_data"
    },
    {
     "data": {
      "text/markdown": [
       "<span style=\"color:#33cc33\">Correct</span>"
      ],
      "text/plain": [
       "Correct"
      ]
     },
     "metadata": {},
     "output_type": "display_data"
    }
   ],
   "source": [
    "# TODO: Set the project_cost variable to the cost of the project\n",
    "project_cost = get_cost(432,144,400,15)\n",
    "\n",
    "# Check your answer\n",
    "q4.check()"
   ]
  },
  {
   "cell_type": "code",
   "execution_count": 9,
   "id": "a2092227",
   "metadata": {
    "execution": {
     "iopub.execute_input": "2023-07-21T11:24:42.236712Z",
     "iopub.status.busy": "2023-07-21T11:24:42.236034Z",
     "iopub.status.idle": "2023-07-21T11:24:42.241450Z",
     "shell.execute_reply": "2023-07-21T11:24:42.240230Z"
    },
    "papermill": {
     "duration": 0.020152,
     "end_time": "2023-07-21T11:24:42.244122",
     "exception": false,
     "start_time": "2023-07-21T11:24:42.223970",
     "status": "completed"
    },
    "tags": []
   },
   "outputs": [],
   "source": [
    "# Uncomment to see a hint\n",
    "#q4.hint()\n",
    "\n",
    "# Uncomment to view the solution\n",
    "#q4.solution()"
   ]
  },
  {
   "cell_type": "markdown",
   "id": "c6a91d6c",
   "metadata": {
    "papermill": {
     "duration": 0.009954,
     "end_time": "2023-07-21T11:24:42.264342",
     "exception": false,
     "start_time": "2023-07-21T11:24:42.254388",
     "status": "completed"
    },
    "tags": []
   },
   "source": [
    "# 🌶️ Question 5\n",
    "\n",
    "Now say you can no longer buy fractions of a gallon.  (For instance, if you need 4.3 gallons to do a project, then you have to buy 5 gallons of paint.)\n",
    "\n",
    "With this new scenario, you will create a new function `get_actual_cost` that uses the same inputs and calculates the cost of your project.\n",
    "\n",
    "One function that you'll need to use to do this is `math.ceil()`.  We demonstrate usage of this function in the code cell below.  It takes as a number as input and rounds the number up to the nearest integer.  \n",
    "\n",
    "Run the next code cell to test this function for yourself.  Feel free to change the value of `test_value` and make sure `math.ceil()` returns the number you expect."
   ]
  },
  {
   "cell_type": "code",
   "execution_count": 10,
   "id": "16225f0d",
   "metadata": {
    "execution": {
     "iopub.execute_input": "2023-07-21T11:24:42.286595Z",
     "iopub.status.busy": "2023-07-21T11:24:42.286151Z",
     "iopub.status.idle": "2023-07-21T11:24:42.292585Z",
     "shell.execute_reply": "2023-07-21T11:24:42.291405Z"
    },
    "papermill": {
     "duration": 0.020383,
     "end_time": "2023-07-21T11:24:42.295010",
     "exception": false,
     "start_time": "2023-07-21T11:24:42.274627",
     "status": "completed"
    },
    "tags": []
   },
   "outputs": [
    {
     "name": "stdout",
     "output_type": "stream",
     "text": [
      "3\n"
     ]
    }
   ],
   "source": [
    "test_value = 2.17\n",
    "\n",
    "rounded_value = math.ceil(test_value)\n",
    "print(rounded_value)"
   ]
  },
  {
   "cell_type": "markdown",
   "id": "f7465932",
   "metadata": {
    "papermill": {
     "duration": 0.009965,
     "end_time": "2023-07-21T11:24:42.315220",
     "exception": false,
     "start_time": "2023-07-21T11:24:42.305255",
     "status": "completed"
    },
    "tags": []
   },
   "source": [
    "Use the next code cell to define the function `get_actual_cost()`.  You'll need to use the `math.ceil()` function to do this.\n",
    "\n",
    "When answering this question, note that it's completely valid to define a function that makes use of another function.  For instance, we can define a function `round_up_and_divide_by_three` that makes use of the `math.ceil` function:\n",
    "```\n",
    "def round_up_and_divide_by_three(num):\n",
    "    new_value = math.ceil(num)\n",
    "    final_value = new_value / 3\n",
    "    return final_value\n",
    "```"
   ]
  },
  {
   "cell_type": "code",
   "execution_count": null,
   "id": "0c68c596",
   "metadata": {
    "papermill": {
     "duration": 0.009956,
     "end_time": "2023-07-21T11:24:42.335658",
     "exception": false,
     "start_time": "2023-07-21T11:24:42.325702",
     "status": "completed"
    },
    "tags": []
   },
   "outputs": [],
   "source": []
  },
  {
   "cell_type": "code",
   "execution_count": 11,
   "id": "318e9e49",
   "metadata": {
    "execution": {
     "iopub.execute_input": "2023-07-21T11:24:42.358322Z",
     "iopub.status.busy": "2023-07-21T11:24:42.357888Z",
     "iopub.status.idle": "2023-07-21T11:24:42.367954Z",
     "shell.execute_reply": "2023-07-21T11:24:42.366799Z"
    },
    "papermill": {
     "duration": 0.024011,
     "end_time": "2023-07-21T11:24:42.370274",
     "exception": false,
     "start_time": "2023-07-21T11:24:42.346263",
     "status": "completed"
    },
    "tags": []
   },
   "outputs": [
    {
     "data": {
      "application/javascript": [
       "parent.postMessage({\"jupyterEvent\": \"custom.exercise_interaction\", \"data\": {\"outcomeType\": 1, \"valueTowardsCompletion\": 0.2, \"interactionType\": 1, \"questionType\": 2, \"questionId\": \"5_NoMoreFractions\", \"learnToolsVersion\": \"0.3.4\", \"failureMessage\": \"\", \"exceptionClass\": \"\", \"trace\": \"\"}}, \"*\")"
      ],
      "text/plain": [
       "<IPython.core.display.Javascript object>"
      ]
     },
     "metadata": {},
     "output_type": "display_data"
    },
    {
     "data": {
      "text/markdown": [
       "<span style=\"color:#33cc33\">Correct</span>"
      ],
      "text/plain": [
       "Correct"
      ]
     },
     "metadata": {},
     "output_type": "display_data"
    }
   ],
   "source": [
    "def get_actual_cost(sqft_walls, sqft_ceiling, sqft_per_gallon, cost_per_gallon):\n",
    "    cost = math.ceil((sqft_walls + sqft_ceiling)/sqft_per_gallon) * cost_per_gallon \n",
    "    return cost\n",
    "\n",
    "# Check your answer\n",
    "q5.check()"
   ]
  },
  {
   "cell_type": "code",
   "execution_count": 12,
   "id": "07d11755",
   "metadata": {
    "execution": {
     "iopub.execute_input": "2023-07-21T11:24:42.393399Z",
     "iopub.status.busy": "2023-07-21T11:24:42.393016Z",
     "iopub.status.idle": "2023-07-21T11:24:42.397180Z",
     "shell.execute_reply": "2023-07-21T11:24:42.396127Z"
    },
    "papermill": {
     "duration": 0.018688,
     "end_time": "2023-07-21T11:24:42.399647",
     "exception": false,
     "start_time": "2023-07-21T11:24:42.380959",
     "status": "completed"
    },
    "tags": []
   },
   "outputs": [],
   "source": [
    "# Uncomment to see a hint\n",
    "#q5.hint()\n",
    "\n",
    "# Uncomment to view the solution\n",
    "#q5.solution()"
   ]
  },
  {
   "cell_type": "markdown",
   "id": "82b903b2",
   "metadata": {
    "papermill": {
     "duration": 0.010363,
     "end_time": "2023-07-21T11:24:42.420605",
     "exception": false,
     "start_time": "2023-07-21T11:24:42.410242",
     "status": "completed"
    },
    "tags": []
   },
   "source": [
    "Once your function is verified as correct, run the next code cell to calculate the updated cost of your project."
   ]
  },
  {
   "cell_type": "code",
   "execution_count": 13,
   "id": "ec0f2e7b",
   "metadata": {
    "execution": {
     "iopub.execute_input": "2023-07-21T11:24:42.443712Z",
     "iopub.status.busy": "2023-07-21T11:24:42.443318Z",
     "iopub.status.idle": "2023-07-21T11:24:42.451069Z",
     "shell.execute_reply": "2023-07-21T11:24:42.449892Z"
    },
    "papermill": {
     "duration": 0.022467,
     "end_time": "2023-07-21T11:24:42.453612",
     "exception": false,
     "start_time": "2023-07-21T11:24:42.431145",
     "status": "completed"
    },
    "tags": []
   },
   "outputs": [
    {
     "data": {
      "text/plain": [
       "30"
      ]
     },
     "execution_count": 13,
     "metadata": {},
     "output_type": "execute_result"
    }
   ],
   "source": [
    "get_actual_cost(432, 144, 400, 15) "
   ]
  },
  {
   "cell_type": "markdown",
   "id": "a5feef52",
   "metadata": {
    "papermill": {
     "duration": 0.010405,
     "end_time": "2023-07-21T11:24:42.474943",
     "exception": false,
     "start_time": "2023-07-21T11:24:42.464538",
     "status": "completed"
    },
    "tags": []
   },
   "source": [
    "Say you're working with a slightly larger room.  Run the next code cell to calculate the cost of the project."
   ]
  },
  {
   "cell_type": "code",
   "execution_count": 14,
   "id": "8ba60667",
   "metadata": {
    "execution": {
     "iopub.execute_input": "2023-07-21T11:24:42.498441Z",
     "iopub.status.busy": "2023-07-21T11:24:42.498036Z",
     "iopub.status.idle": "2023-07-21T11:24:42.505437Z",
     "shell.execute_reply": "2023-07-21T11:24:42.504259Z"
    },
    "papermill": {
     "duration": 0.022122,
     "end_time": "2023-07-21T11:24:42.507767",
     "exception": false,
     "start_time": "2023-07-21T11:24:42.485645",
     "status": "completed"
    },
    "tags": []
   },
   "outputs": [
    {
     "data": {
      "text/plain": [
       "45"
      ]
     },
     "execution_count": 14,
     "metadata": {},
     "output_type": "execute_result"
    }
   ],
   "source": [
    "get_actual_cost(594, 288, 400, 15) "
   ]
  },
  {
   "cell_type": "markdown",
   "id": "d41a981d",
   "metadata": {
    "papermill": {
     "duration": 0.010475,
     "end_time": "2023-07-21T11:24:42.529155",
     "exception": false,
     "start_time": "2023-07-21T11:24:42.518680",
     "status": "completed"
    },
    "tags": []
   },
   "source": [
    "# Keep going\n",
    "\n",
    "Continue to learn about **[data types](https://www.kaggle.com/alexisbcook/data-types)**."
   ]
  },
  {
   "cell_type": "markdown",
   "id": "8dc7e85e",
   "metadata": {
    "papermill": {
     "duration": 0.01058,
     "end_time": "2023-07-21T11:24:42.550664",
     "exception": false,
     "start_time": "2023-07-21T11:24:42.540084",
     "status": "completed"
    },
    "tags": []
   },
   "source": [
    "---\n",
    "\n",
    "\n",
    "\n",
    "\n",
    "*Have questions or comments? Visit the [course discussion forum](https://www.kaggle.com/learn/intro-to-programming/discussion) to chat with other learners.*"
   ]
  }
 ],
 "metadata": {
  "kernelspec": {
   "display_name": "Python 3",
   "language": "python",
   "name": "python3"
  },
  "language_info": {
   "codemirror_mode": {
    "name": "ipython",
    "version": 3
   },
   "file_extension": ".py",
   "mimetype": "text/x-python",
   "name": "python",
   "nbconvert_exporter": "python",
   "pygments_lexer": "ipython3",
   "version": "3.10.12"
  },
  "papermill": {
   "default_parameters": {},
   "duration": 13.37133,
   "end_time": "2023-07-21T11:24:43.485810",
   "environment_variables": {},
   "exception": null,
   "input_path": "__notebook__.ipynb",
   "output_path": "__notebook__.ipynb",
   "parameters": {},
   "start_time": "2023-07-21T11:24:30.114480",
   "version": "2.4.0"
  }
 },
 "nbformat": 4,
 "nbformat_minor": 5
}
